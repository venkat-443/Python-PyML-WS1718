{
 "cells": [
  {
   "cell_type": "markdown",
   "metadata": {},
   "source": [
    "# Exercise Sheet 1: Python Basics\n",
    "\n",
    "This first  exercise sheet tests the basic functionalities of the Python programming language in the context of a simple prediction task. We consider the problem of predicting health risk of subjects from personal data and habits. We first use for this task a decision tree\n",
    "\n",
    "![](tree.png)\n",
    "\n",
    "adapted from the webpage http://www.refactorthis.net/post/2013/04/10/Machine-Learning-tutorial-How-to-create-a-decision-tree-in-RapidMiner-using-the-Titanic-passenger-data-set.aspx. For this exercise sheet, you are required to use only pure Python, and to not import any module, including numpy. In exercise sheet 2, the nearest neighbor part of this exercise sheet will be revisited with numpy."
   ]
  },
  {
   "cell_type": "markdown",
   "metadata": {},
   "source": [
    "## Classifying a single instance (15 P)\n",
    "\n",
    "* Create a function that takes as input a tuple containing values for attributes (smoker,age,diet), and computes the output of the decision tree.\n",
    "* Test your function on the tuple `('yes',31,'good')`,"
   ]
  },
  {
   "cell_type": "code",
   "execution_count": 2,
   "metadata": {},
   "outputs": [
    {
     "name": "stdout",
     "output_type": "stream",
     "text": [
      "More Risk\n"
     ]
    }
   ],
   "source": [
    "def riskCalc(person):\n",
    "    if ( person[0] ==  'yes'):\n",
    "        if ( person[1] < 30 ):\n",
    "            return 'Less Risk'\n",
    "        elif ( person[1] > 30 ):\n",
    "            return 'More Risk'\n",
    "    elif ( person[0] ==  'no'):\n",
    "        if ( person[2] ==  'good'):\n",
    "            return 'Less Risk'\n",
    "        elif ( person[2] ==  'poor' ):\n",
    "            return 'More Risk'\n",
    "\n",
    "print riskCalc(('yes',31,'poor'))"
   ]
  },
  {
   "cell_type": "markdown",
   "metadata": {},
   "source": [
    "## Reading a dataset from a text file (10 P)\n",
    "\n",
    "The file `health-test.txt` contains several fictious records of personal data and habits.\n",
    "\n",
    "* Read the file automatically using the methods introduced during the lecture.\n",
    "* Represent the dataset as a list of tuples."
   ]
  },
  {
   "cell_type": "code",
   "execution_count": 3,
   "metadata": {
    "scrolled": true
   },
   "outputs": [
    {
     "name": "stdout",
     "output_type": "stream",
     "text": [
      "[('yes', 21, 'poor'), ('no', 50, 'good'), ('no', 23, 'good'), ('yes', 45, 'poor'), ('yes', 51, 'good'), ('no', 60, 'good'), ('no', 15, 'poor'), ('no', 18, 'good')]\n"
     ]
    }
   ],
   "source": [
    "def getTuple(line):\n",
    "    L = str.split(line[:-1],',')\n",
    "    L[1]= int(L[1])\n",
    "    return tuple(L)\n",
    "\n",
    "def readTuplesFromFile(file):\n",
    "    tupleList=[]\n",
    "    for line in open (file, 'r'):\n",
    "        tupleList += [getTuple(line)]\n",
    "    return tupleList\n",
    "print(readTuplesFromFile('health-test.txt'))"
   ]
  },
  {
   "cell_type": "markdown",
   "metadata": {},
   "source": [
    "## Applying the decision tree to the dataset (15 P)\n",
    "\n",
    "* Apply the decision tree to all points in the dataset, and compute the percentage of them that are classified as \"more risk\"."
   ]
  },
  {
   "cell_type": "code",
   "execution_count": 4,
   "metadata": {},
   "outputs": [
    {
     "name": "stdout",
     "output_type": "stream",
     "text": [
      "37.50 %\n"
     ]
    }
   ],
   "source": [
    "risk=[]\n",
    "moreRisk=[]\n",
    "def decisionTree():\n",
    "    global risk,moreRisk\n",
    "    data = readTuplesFromFile('health-test.txt')\n",
    "\n",
    "    risk = [ riskCalc(person) for person in data ]\n",
    "\n",
    "    moreRisk = filter (lambda val: val == 'More Risk', risk)\n",
    "\n",
    "decisionTree()\n",
    "print ( '%.2f %%' % (float(len(moreRisk)) / float(len(risk))*100))"
   ]
  },
  {
   "cell_type": "markdown",
   "metadata": {},
   "source": [
    "## Learning from examples (10 P)\n",
    "\n",
    "Suppose that instead of relying on a fixed decision tree, we would like to use a data-driven approach where data points are classified based on a set of training observations manually labeled by experts. Such labeled dataset is available in the file `health-train.txt`. The first three columns have the same meaning than for `health-test.txt`, and the last column corresponds to the labels.\n",
    "\n",
    "* Write a procedure that reads this file and converts it into a list of pairs. The first element of each pair is a triplet of attributes, and the second element is the label."
   ]
  },
  {
   "cell_type": "code",
   "execution_count": 5,
   "metadata": {},
   "outputs": [
    {
     "name": "stdout",
     "output_type": "stream",
     "text": [
      "[(('yes', 54, 'good'), 'less'), (('no', 55, 'good'), 'less'), (('no', 26, 'good'), 'less'), (('yes', 40, 'good'), 'more'), (('yes', 25, 'poor'), 'less'), (('no', 13, 'poor'), 'more'), (('no', 15, 'good'), 'less'), (('no', 50, 'poor'), 'more'), (('yes', 33, 'good'), 'more'), (('no', 35, 'good'), 'less'), (('no', 41, 'good'), 'less'), (('yes', 30, 'poor'), 'more'), (('no', 39, 'poor'), 'more'), (('no', 20, 'good'), 'less'), (('yes', 18, 'poor'), 'less'), (('yes', 55, 'good'), 'more')]\n"
     ]
    }
   ],
   "source": [
    "def dataPairs(file):\n",
    "    tuples = readTuplesFromFile(file)\n",
    "    pairList = []\n",
    "    for tup in tuples:\n",
    "        pairList += [ (tup[:-1],tup[len(tup)-1])]\n",
    "    return pairList\n",
    "\n",
    "print dataPairs('health-train.txt')"
   ]
  },
  {
   "cell_type": "markdown",
   "metadata": {},
   "source": [
    "## Nearest neighbor classifier (25 P)\n",
    "\n",
    "We consider the nearest neighbor algorithm that classifies test points following the label of the nearest neighbor in the training data. For this, we need to define a distance function between data points. We define it to be\n",
    "\n",
    "`d(a,b) = (a[0]!=b[0])+((a[1]-b[1])/50.0)**2+(a[2]!=b[2])`\n",
    "\n",
    "where `a` and `b` are two tuples corrsponding to the attributes of two data points.\n",
    "\n",
    "* Write a function that retrieves for a test point the nearest neighbor in the training set, and classifies the test point accordingly.\n",
    "* Test your function on the tuple `('yes',31,'good')`"
   ]
  },
  {
   "cell_type": "code",
   "execution_count": 13,
   "metadata": {},
   "outputs": [
    {
     "data": {
      "text/plain": [
       "(('yes', 31, 'good'), 'more')"
      ]
     },
     "execution_count": 13,
     "metadata": {},
     "output_type": "execute_result"
    }
   ],
   "source": [
    "closestPoint= tuple()\n",
    "def distance(a,b):\n",
    "    dist = (a[0]!=b[0])+(((a[1]-b[1])/50.0)**2)+(a[2]!=b[2])\n",
    "    return dist\n",
    "    \n",
    "def NearestNeighbourClassify(a):\n",
    "    distVect=[]\n",
    "    trainPairs = dataPairs('health-train.txt')\n",
    "    for pair in trainPairs:\n",
    "        distVect+=[distance(a,pair[0])]\n",
    "    return trainPairs[distVect.index(min(distVect))][1]\n",
    "\n",
    "point = ('yes',31,'good')\n",
    "tuple((point,NearestNeighbourClassify(point)))    \n",
    "    "
   ]
  },
  {
   "cell_type": "markdown",
   "metadata": {},
   "source": [
    "* Apply both the decision tree and nearest neighbor classifiers on the test set, and find the data point(s) for which the two classifiers disagree, and with which probability it happens."
   ]
  },
  {
   "cell_type": "code",
   "execution_count": 7,
   "metadata": {},
   "outputs": [
    {
     "name": "stdout",
     "output_type": "stream",
     "text": [
      "[('yes', 51, 'good')]\n",
      "0.125\n"
     ]
    }
   ],
   "source": [
    "decisionTree()\n",
    "riskDecisionTree = [ 'more' if (riskVal =='More Risk') else 'less' for riskVal in risk]\n",
    "\n",
    "riskNN = []\n",
    "testPoints = readTuplesFromFile('health-test.txt')\n",
    "for testPoint in testPoints:\n",
    "    riskNN += [NearestNeighbourClassify(testPoint)]\n",
    "\n",
    "mismatchCount=0\n",
    "mistmatchList=[]\n",
    "for i in range(len(riskNN)):\n",
    "    if ( riskDecisionTree[i] != riskNN[i]):\n",
    "        mistmatchList += [testPoints[i]]\n",
    "        mismatchCount+=1\n",
    "        \n",
    "print mistmatchList\n",
    "\n",
    "print mismatchCount/float(len(riskNN))\n"
   ]
  },
  {
   "cell_type": "markdown",
   "metadata": {},
   "source": [
    "One problem of simple nearest neighbors is that one needs to compare the point to predict to all data points in the training set. This can be slow for datasets of thousands of points or more. Alternatively, some classifiers train a model first, and then use it to classify the data.\n",
    "\n",
    "## Nearest mean classifier (25 P)\n",
    "\n",
    "We consider one such trainable model, which operates in two steps:\n",
    "\n",
    "(1) Compute the average point for each class, (2) classify new points to be of the class whose average point is nearest to the point to predict.\n",
    "\n",
    "For this classifier, we convert the attributes smoker and diet to real values (for smoker: yes=1.0 and no=0.0, and for diet: good=0.0 and poor=1.0), and use the modified distance function:\n",
    "\n",
    "`d(a,b) = (a[0]-b[0])**2+((a[1]-b[1])/50.0)**2+(a[2]-b[2])**2`\n",
    "\n",
    "We adopt an object-oriented approach for building this classifier.\n",
    "\n",
    "* Implement the methods `train` and `predict` of the class `NearestMeanClassifier`."
   ]
  },
  {
   "cell_type": "code",
   "execution_count": 8,
   "metadata": {},
   "outputs": [],
   "source": [
    "class NearestMeanClassifier:\n",
    "    \n",
    "    val = {'yes':1.0,'no':0.0,'good':0.0,'poor':1.0}\n",
    "    moreCentroid=(0,0,0)\n",
    "    lessCentroid=(0,0,0)\n",
    "    moreCount=0\n",
    "    lessCount=0\n",
    "    # Training method that takes as input a dataset\n",
    "    # and produces two internal vectors corresponding\n",
    "    # to the mean of each class.\n",
    "    \n",
    "    def calcDistance(self,a,b):\n",
    "        return (self.val[a[0]]-b[0])**2+((a[1]-b[1])/50.0)**2+(self.val[a[2]]-b[2])**2\n",
    "    \n",
    "    def train(self,dataset):\n",
    "#        global moreCentroid,lessCentroid,moreCount,lessCount\n",
    "        for datapoint in dataPairs(dataset):\n",
    "            if ( datapoint[1] == 'more'):\n",
    "                self.moreCentroid=(self.moreCentroid[0]+self.val[datapoint[0][0]],self.moreCentroid[1]+datapoint[0][1],self.moreCentroid[2]+self.val[datapoint[0][2]])\n",
    "                self.moreCount+=1\n",
    "            elif ( datapoint[1] == 'less' ):\n",
    "                self.lessCentroid=(self.lessCentroid[0]+self.val[datapoint[0][0]],self.lessCentroid[1]+datapoint[0][1],self.lessCentroid[2]+self.val[datapoint[0][2]])\n",
    "                self.lessCount+=1\n",
    "        self.moreCentroid=(self.moreCentroid[0]/float(self.moreCount),self.moreCentroid[1]/float(self.moreCount),self.moreCentroid[2]/float(self.moreCount))\n",
    "        self.lessCentroid=(self.lessCentroid[0]/float(self.lessCount),self.lessCentroid[1]/float(self.lessCount),self.lessCentroid[2]/float(self.lessCount))\n",
    "    # Prediction method that takes as input a new data\n",
    "    # point and predicts it to belong to the class with\n",
    "    # nearest mean.\n",
    "    def predict(self,x):\n",
    "        l=[]\n",
    "        l += [self.calcDistance(x,self.moreCentroid)]\n",
    "        l += [self.calcDistance(tuple(x),self.lessCentroid)]\n",
    "        index = l.index(min(l))\n",
    "        if ( index == 0):\n",
    "            return 'more'\n",
    "        elif ( index ==1 ):\n",
    "            return 'less'\n"
   ]
  },
  {
   "cell_type": "raw",
   "metadata": {},
   "source": [
    "* Build an object of class `NearestMeanClassifier`, train it on the training data, and print the mean vector for each class."
   ]
  },
  {
   "cell_type": "code",
   "execution_count": 9,
   "metadata": {},
   "outputs": [
    {
     "name": "stdout",
     "output_type": "stream",
     "text": [
      "more\n",
      "((0.5714285714285714, 37.142857142857146, 0.5714285714285714), 'more')\n",
      "((0.3333333333333333, 32.111111111111114, 0.2222222222222222), 'less')\n"
     ]
    }
   ],
   "source": [
    "c = NearestMeanClassifier()\n",
    "c.train('health-train.txt')\n",
    "print c.predict(('no',31,'poor'))\n",
    "print tuple((c.moreCentroid,'more'))\n",
    "print tuple((c.lessCentroid,'less'))"
   ]
  },
  {
   "cell_type": "markdown",
   "metadata": {},
   "source": [
    "* Predict the test data using the nearest mean classifier and print all test examples for which all three classifiers (decision tree, nearest neighbor and nearest mean) agree."
   ]
  },
  {
   "cell_type": "code",
   "execution_count": 10,
   "metadata": {},
   "outputs": [
    {
     "name": "stdout",
     "output_type": "stream",
     "text": [
      "('no', 50, 'good')\n",
      "('no', 23, 'good')\n",
      "('yes', 45, 'poor')\n",
      "('no', 60, 'good')\n",
      "('no', 15, 'poor')\n",
      "('no', 18, 'good')\n"
     ]
    }
   ],
   "source": [
    "riskNM = []\n",
    "testPoints= readTuplesFromFile('health-test.txt')\n",
    "for testPoint in testPoints:\n",
    "    riskNM += [c.predict(testPoint)]\n",
    "    \n",
    "for i in range(len(riskNN)):\n",
    "    if ( riskDecisionTree[i] == riskNN[i] and riskNN[i] == riskNM[i]):\n",
    "        print testPoints[i]\n"
   ]
  },
  {
   "cell_type": "code",
   "execution_count": null,
   "metadata": {},
   "outputs": [],
   "source": []
  },
  {
   "cell_type": "code",
   "execution_count": null,
   "metadata": {},
   "outputs": [],
   "source": []
  }
 ],
 "metadata": {
  "kernelspec": {
   "display_name": "Python 2",
   "language": "python",
   "name": "python2"
  },
  "language_info": {
   "codemirror_mode": {
    "name": "ipython",
    "version": 2
   },
   "file_extension": ".py",
   "mimetype": "text/x-python",
   "name": "python",
   "nbconvert_exporter": "python",
   "pygments_lexer": "ipython2",
   "version": "2.7.12"
  }
 },
 "nbformat": 4,
 "nbformat_minor": 1
}
